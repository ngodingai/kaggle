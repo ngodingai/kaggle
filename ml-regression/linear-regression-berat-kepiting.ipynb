{
 "cells": [
  {
   "cell_type": "code",
   "execution_count": 1,
   "id": "bdb67dba",
   "metadata": {
    "_cell_guid": "b1076dfc-b9ad-4769-8c92-a6c4dae69d19",
    "_uuid": "8f2839f25d086af736a60e9eeb907d3b93b6e0e5",
    "execution": {
     "iopub.execute_input": "2025-09-21T13:10:25.676357Z",
     "iopub.status.busy": "2025-09-21T13:10:25.675051Z",
     "iopub.status.idle": "2025-09-21T13:10:27.816699Z",
     "shell.execute_reply": "2025-09-21T13:10:27.815459Z"
    },
    "papermill": {
     "duration": 2.147377,
     "end_time": "2025-09-21T13:10:27.818540",
     "exception": false,
     "start_time": "2025-09-21T13:10:25.671163",
     "status": "completed"
    },
    "tags": []
   },
   "outputs": [
    {
     "name": "stdout",
     "output_type": "stream",
     "text": [
      "/kaggle/input/crab-age-prediction/CrabAgePrediction.csv\n"
     ]
    }
   ],
   "source": [
    "# This Python 3 environment comes with many helpful analytics libraries installed\n",
    "# It is defined by the kaggle/python Docker image: https://github.com/kaggle/docker-python\n",
    "# For example, here's several helpful packages to load\n",
    "\n",
    "import numpy as np # linear algebra\n",
    "import pandas as pd # data processing, CSV file I/O (e.g. pd.read_csv)\n",
    "\n",
    "# Input data files are available in the read-only \"../input/\" directory\n",
    "# For example, running this (by clicking run or pressing Shift+Enter) will list all files under the input directory\n",
    "\n",
    "import os\n",
    "for dirname, _, filenames in os.walk('/kaggle/input'):\n",
    "    for filename in filenames:\n",
    "        print(os.path.join(dirname, filename))\n",
    "\n",
    "# You can write up to 20GB to the current directory (/kaggle/working/) that gets preserved as output when you create a version using \"Save & Run All\" \n",
    "# You can also write temporary files to /kaggle/temp/, but they won't be saved outside of the current session"
   ]
  },
  {
   "cell_type": "code",
   "execution_count": 2,
   "id": "6189d8d7",
   "metadata": {
    "execution": {
     "iopub.execute_input": "2025-09-21T13:10:27.824884Z",
     "iopub.status.busy": "2025-09-21T13:10:27.824483Z",
     "iopub.status.idle": "2025-09-21T13:10:27.858374Z",
     "shell.execute_reply": "2025-09-21T13:10:27.857052Z"
    },
    "papermill": {
     "duration": 0.038806,
     "end_time": "2025-09-21T13:10:27.860093",
     "exception": false,
     "start_time": "2025-09-21T13:10:27.821287",
     "status": "completed"
    },
    "tags": []
   },
   "outputs": [],
   "source": [
    "df = pd.read_csv('/kaggle/input/crab-age-prediction/CrabAgePrediction.csv', usecols=['Length', 'Diameter', 'Height', 'Weight'])"
   ]
  },
  {
   "cell_type": "code",
   "execution_count": 3,
   "id": "4f855308",
   "metadata": {
    "execution": {
     "iopub.execute_input": "2025-09-21T13:10:27.866099Z",
     "iopub.status.busy": "2025-09-21T13:10:27.865791Z",
     "iopub.status.idle": "2025-09-21T13:10:27.898656Z",
     "shell.execute_reply": "2025-09-21T13:10:27.897606Z"
    },
    "papermill": {
     "duration": 0.037871,
     "end_time": "2025-09-21T13:10:27.900468",
     "exception": false,
     "start_time": "2025-09-21T13:10:27.862597",
     "status": "completed"
    },
    "tags": []
   },
   "outputs": [
    {
     "data": {
      "text/html": [
       "<div>\n",
       "<style scoped>\n",
       "    .dataframe tbody tr th:only-of-type {\n",
       "        vertical-align: middle;\n",
       "    }\n",
       "\n",
       "    .dataframe tbody tr th {\n",
       "        vertical-align: top;\n",
       "    }\n",
       "\n",
       "    .dataframe thead th {\n",
       "        text-align: right;\n",
       "    }\n",
       "</style>\n",
       "<table border=\"1\" class=\"dataframe\">\n",
       "  <thead>\n",
       "    <tr style=\"text-align: right;\">\n",
       "      <th></th>\n",
       "      <th>Length</th>\n",
       "      <th>Diameter</th>\n",
       "      <th>Height</th>\n",
       "      <th>Weight</th>\n",
       "    </tr>\n",
       "  </thead>\n",
       "  <tbody>\n",
       "    <tr>\n",
       "      <th>0</th>\n",
       "      <td>1.4375</td>\n",
       "      <td>1.1750</td>\n",
       "      <td>0.4125</td>\n",
       "      <td>24.635715</td>\n",
       "    </tr>\n",
       "    <tr>\n",
       "      <th>1</th>\n",
       "      <td>0.8875</td>\n",
       "      <td>0.6500</td>\n",
       "      <td>0.2125</td>\n",
       "      <td>5.400580</td>\n",
       "    </tr>\n",
       "    <tr>\n",
       "      <th>2</th>\n",
       "      <td>1.0375</td>\n",
       "      <td>0.7750</td>\n",
       "      <td>0.2500</td>\n",
       "      <td>7.952035</td>\n",
       "    </tr>\n",
       "    <tr>\n",
       "      <th>3</th>\n",
       "      <td>1.1750</td>\n",
       "      <td>0.8875</td>\n",
       "      <td>0.2500</td>\n",
       "      <td>13.480187</td>\n",
       "    </tr>\n",
       "    <tr>\n",
       "      <th>4</th>\n",
       "      <td>0.8875</td>\n",
       "      <td>0.6625</td>\n",
       "      <td>0.2125</td>\n",
       "      <td>6.903103</td>\n",
       "    </tr>\n",
       "    <tr>\n",
       "      <th>...</th>\n",
       "      <td>...</td>\n",
       "      <td>...</td>\n",
       "      <td>...</td>\n",
       "      <td>...</td>\n",
       "    </tr>\n",
       "    <tr>\n",
       "      <th>3888</th>\n",
       "      <td>1.4625</td>\n",
       "      <td>1.1375</td>\n",
       "      <td>0.3250</td>\n",
       "      <td>24.819987</td>\n",
       "    </tr>\n",
       "    <tr>\n",
       "      <th>3889</th>\n",
       "      <td>1.5500</td>\n",
       "      <td>1.2125</td>\n",
       "      <td>0.4375</td>\n",
       "      <td>34.458817</td>\n",
       "    </tr>\n",
       "    <tr>\n",
       "      <th>3890</th>\n",
       "      <td>0.6250</td>\n",
       "      <td>0.4625</td>\n",
       "      <td>0.1625</td>\n",
       "      <td>2.012815</td>\n",
       "    </tr>\n",
       "    <tr>\n",
       "      <th>3891</th>\n",
       "      <td>1.0625</td>\n",
       "      <td>0.7750</td>\n",
       "      <td>0.2625</td>\n",
       "      <td>10.347568</td>\n",
       "    </tr>\n",
       "    <tr>\n",
       "      <th>3892</th>\n",
       "      <td>0.7875</td>\n",
       "      <td>0.6125</td>\n",
       "      <td>0.2125</td>\n",
       "      <td>4.068153</td>\n",
       "    </tr>\n",
       "  </tbody>\n",
       "</table>\n",
       "<p>3893 rows × 4 columns</p>\n",
       "</div>"
      ],
      "text/plain": [
       "      Length  Diameter  Height     Weight\n",
       "0     1.4375    1.1750  0.4125  24.635715\n",
       "1     0.8875    0.6500  0.2125   5.400580\n",
       "2     1.0375    0.7750  0.2500   7.952035\n",
       "3     1.1750    0.8875  0.2500  13.480187\n",
       "4     0.8875    0.6625  0.2125   6.903103\n",
       "...      ...       ...     ...        ...\n",
       "3888  1.4625    1.1375  0.3250  24.819987\n",
       "3889  1.5500    1.2125  0.4375  34.458817\n",
       "3890  0.6250    0.4625  0.1625   2.012815\n",
       "3891  1.0625    0.7750  0.2625  10.347568\n",
       "3892  0.7875    0.6125  0.2125   4.068153\n",
       "\n",
       "[3893 rows x 4 columns]"
      ]
     },
     "execution_count": 3,
     "metadata": {},
     "output_type": "execute_result"
    }
   ],
   "source": [
    "df"
   ]
  },
  {
   "cell_type": "markdown",
   "id": "cb5a989a",
   "metadata": {
    "papermill": {
     "duration": 0.002328,
     "end_time": "2025-09-21T13:10:27.905436",
     "exception": false,
     "start_time": "2025-09-21T13:10:27.903108",
     "status": "completed"
    },
    "tags": []
   },
   "source": [
    "# EDA"
   ]
  },
  {
   "cell_type": "markdown",
   "id": "d9b021d0",
   "metadata": {
    "papermill": {
     "duration": 0.00212,
     "end_time": "2025-09-21T13:10:27.909892",
     "exception": false,
     "start_time": "2025-09-21T13:10:27.907772",
     "status": "completed"
    },
    "tags": []
   },
   "source": [
    "# Split into Train and Test"
   ]
  },
  {
   "cell_type": "markdown",
   "id": "a5048f7d",
   "metadata": {
    "papermill": {
     "duration": 0.001954,
     "end_time": "2025-09-21T13:10:27.914177",
     "exception": false,
     "start_time": "2025-09-21T13:10:27.912223",
     "status": "completed"
    },
    "tags": []
   },
   "source": [
    "# Linear Model: Estimasi nilai Beta"
   ]
  },
  {
   "cell_type": "markdown",
   "id": "d9465e4a",
   "metadata": {
    "papermill": {
     "duration": 0.001926,
     "end_time": "2025-09-21T13:10:27.918311",
     "exception": false,
     "start_time": "2025-09-21T13:10:27.916385",
     "status": "completed"
    },
    "tags": []
   },
   "source": [
    "# Prediksi Weight"
   ]
  },
  {
   "cell_type": "markdown",
   "id": "1cadc512",
   "metadata": {
    "papermill": {
     "duration": 0.001918,
     "end_time": "2025-09-21T13:10:27.922568",
     "exception": false,
     "start_time": "2025-09-21T13:10:27.920650",
     "status": "completed"
    },
    "tags": []
   },
   "source": [
    "# Hitung Error (Mean Absolute Error)"
   ]
  }
 ],
 "metadata": {
  "kaggle": {
   "accelerator": "none",
   "dataSources": [
    {
     "datasetId": 1734027,
     "sourceId": 2834512,
     "sourceType": "datasetVersion"
    }
   ],
   "dockerImageVersionId": 31089,
   "isGpuEnabled": false,
   "isInternetEnabled": true,
   "language": "python",
   "sourceType": "notebook"
  },
  "kernelspec": {
   "display_name": "Python 3",
   "language": "python",
   "name": "python3"
  },
  "language_info": {
   "codemirror_mode": {
    "name": "ipython",
    "version": 3
   },
   "file_extension": ".py",
   "mimetype": "text/x-python",
   "name": "python",
   "nbconvert_exporter": "python",
   "pygments_lexer": "ipython3",
   "version": "3.11.13"
  },
  "papermill": {
   "default_parameters": {},
   "duration": 9.030098,
   "end_time": "2025-09-21T13:10:28.545494",
   "environment_variables": {},
   "exception": null,
   "input_path": "__notebook__.ipynb",
   "output_path": "__notebook__.ipynb",
   "parameters": {},
   "start_time": "2025-09-21T13:10:19.515396",
   "version": "2.6.0"
  }
 },
 "nbformat": 4,
 "nbformat_minor": 5
}
