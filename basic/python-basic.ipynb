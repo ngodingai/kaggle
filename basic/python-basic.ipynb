{
 "cells": [
  {
   "cell_type": "markdown",
   "id": "a67c78b5",
   "metadata": {
    "papermill": {
     "duration": 0.00589,
     "end_time": "2025-09-21T13:00:20.803671",
     "exception": false,
     "start_time": "2025-09-21T13:00:20.797781",
     "status": "completed"
    },
    "tags": []
   },
   "source": [
    "# 🧠 Python Basic: Data Types\n",
    "\n",
    "Python memiliki beberapa tipe data dasar yang sering digunakan:\n",
    "\n",
    "- `int` → Bilangan bulat (integer)\n",
    "- `float` → Bilangan desimal (floating point)\n",
    "- `bool` → Tipe data boolean (True / False)\n",
    "- `str` → Teks atau string\n",
    "\n",
    "Mari lihat contohnya:\n"
   ]
  },
  {
   "cell_type": "code",
   "execution_count": 1,
   "id": "f89b319c",
   "metadata": {
    "_cell_guid": "b1076dfc-b9ad-4769-8c92-a6c4dae69d19",
    "_uuid": "8f2839f25d086af736a60e9eeb907d3b93b6e0e5",
    "execution": {
     "iopub.execute_input": "2025-09-21T13:00:20.815169Z",
     "iopub.status.busy": "2025-09-21T13:00:20.814840Z",
     "iopub.status.idle": "2025-09-21T13:00:20.824362Z",
     "shell.execute_reply": "2025-09-21T13:00:20.823061Z"
    },
    "papermill": {
     "duration": 0.017589,
     "end_time": "2025-09-21T13:00:20.826345",
     "exception": false,
     "start_time": "2025-09-21T13:00:20.808756",
     "status": "completed"
    },
    "tags": []
   },
   "outputs": [],
   "source": [
    "# Contoh penggunaan data types\n",
    "x = 10          # int\n",
    "y = 3.14        # float\n",
    "z = True        # bool\n",
    "name = \"AI\"     # string\n",
    "\n",
    "a = 10000\n",
    "# print(type(x))    # <class 'int'>\n",
    "# print(type(y))    # <class 'float'>\n",
    "# print(type(z))    # <class 'bool'>\n",
    "# print(type(name)) # <class 'str'>\n"
   ]
  },
  {
   "cell_type": "code",
   "execution_count": 2,
   "id": "2f21fd2d",
   "metadata": {
    "execution": {
     "iopub.execute_input": "2025-09-21T13:00:20.838598Z",
     "iopub.status.busy": "2025-09-21T13:00:20.837214Z",
     "iopub.status.idle": "2025-09-21T13:00:20.843942Z",
     "shell.execute_reply": "2025-09-21T13:00:20.842794Z"
    },
    "papermill": {
     "duration": 0.014123,
     "end_time": "2025-09-21T13:00:20.845581",
     "exception": false,
     "start_time": "2025-09-21T13:00:20.831458",
     "status": "completed"
    },
    "tags": []
   },
   "outputs": [
    {
     "name": "stdout",
     "output_type": "stream",
     "text": [
      "<class 'bool'>\n"
     ]
    }
   ],
   "source": [
    "print(type(z))"
   ]
  },
  {
   "cell_type": "markdown",
   "id": "3d51218d",
   "metadata": {
    "papermill": {
     "duration": 0.004598,
     "end_time": "2025-09-21T13:00:20.855352",
     "exception": false,
     "start_time": "2025-09-21T13:00:20.850754",
     "status": "completed"
    },
    "tags": []
   },
   "source": [
    "# ➕ Operators di Python\n",
    "\n",
    "Operator digunakan untuk melakukan operasi matematika atau logika.\n",
    "\n",
    "Beberapa jenis operator:\n",
    "\n",
    "- **Aritmatika**: `+`, `-`, `*`, `/`, `//`, `%`, `**`\n",
    "- **Perbandingan**: `==`, `!=`, `>`, `<`, `>=`, `<=`\n",
    "- **Logika**: `and`, `or`, `not`\n",
    "\n",
    "Contoh:\n"
   ]
  },
  {
   "cell_type": "code",
   "execution_count": 3,
   "id": "aa125112",
   "metadata": {
    "execution": {
     "iopub.execute_input": "2025-09-21T13:00:20.866480Z",
     "iopub.status.busy": "2025-09-21T13:00:20.866100Z",
     "iopub.status.idle": "2025-09-21T13:00:20.871573Z",
     "shell.execute_reply": "2025-09-21T13:00:20.870425Z"
    },
    "papermill": {
     "duration": 0.013425,
     "end_time": "2025-09-21T13:00:20.873636",
     "exception": false,
     "start_time": "2025-09-21T13:00:20.860211",
     "status": "completed"
    },
    "tags": []
   },
   "outputs": [],
   "source": [
    "# Aritmatika\n",
    "a = 10\n",
    "b = 3\n"
   ]
  },
  {
   "cell_type": "code",
   "execution_count": 4,
   "id": "3f2ec46b",
   "metadata": {
    "execution": {
     "iopub.execute_input": "2025-09-21T13:00:20.885022Z",
     "iopub.status.busy": "2025-09-21T13:00:20.884727Z",
     "iopub.status.idle": "2025-09-21T13:00:20.889738Z",
     "shell.execute_reply": "2025-09-21T13:00:20.888764Z"
    },
    "papermill": {
     "duration": 0.012691,
     "end_time": "2025-09-21T13:00:20.891480",
     "exception": false,
     "start_time": "2025-09-21T13:00:20.878789",
     "status": "completed"
    },
    "tags": []
   },
   "outputs": [],
   "source": [
    "i = True\n",
    "j = False\n",
    "k = True"
   ]
  },
  {
   "cell_type": "code",
   "execution_count": 5,
   "id": "70203aaf",
   "metadata": {
    "execution": {
     "iopub.execute_input": "2025-09-21T13:00:20.903100Z",
     "iopub.status.busy": "2025-09-21T13:00:20.902767Z",
     "iopub.status.idle": "2025-09-21T13:00:20.909931Z",
     "shell.execute_reply": "2025-09-21T13:00:20.908936Z"
    },
    "papermill": {
     "duration": 0.014973,
     "end_time": "2025-09-21T13:00:20.911696",
     "exception": false,
     "start_time": "2025-09-21T13:00:20.896723",
     "status": "completed"
    },
    "tags": []
   },
   "outputs": [
    {
     "data": {
      "text/plain": [
       "True"
      ]
     },
     "execution_count": 5,
     "metadata": {},
     "output_type": "execute_result"
    }
   ],
   "source": [
    "i or j"
   ]
  },
  {
   "cell_type": "code",
   "execution_count": 6,
   "id": "62e762ca",
   "metadata": {
    "execution": {
     "iopub.execute_input": "2025-09-21T13:00:20.924180Z",
     "iopub.status.busy": "2025-09-21T13:00:20.923773Z",
     "iopub.status.idle": "2025-09-21T13:00:20.929303Z",
     "shell.execute_reply": "2025-09-21T13:00:20.928241Z"
    },
    "papermill": {
     "duration": 0.014378,
     "end_time": "2025-09-21T13:00:20.931353",
     "exception": false,
     "start_time": "2025-09-21T13:00:20.916975",
     "status": "completed"
    },
    "tags": []
   },
   "outputs": [
    {
     "name": "stdout",
     "output_type": "stream",
     "text": [
      "False\n"
     ]
    }
   ],
   "source": [
    "c = a < b\n",
    "\n",
    "print(c)"
   ]
  },
  {
   "cell_type": "code",
   "execution_count": 7,
   "id": "73234847",
   "metadata": {
    "execution": {
     "iopub.execute_input": "2025-09-21T13:00:20.942978Z",
     "iopub.status.busy": "2025-09-21T13:00:20.942686Z",
     "iopub.status.idle": "2025-09-21T13:00:20.949199Z",
     "shell.execute_reply": "2025-09-21T13:00:20.948067Z"
    },
    "papermill": {
     "duration": 0.014268,
     "end_time": "2025-09-21T13:00:20.950905",
     "exception": false,
     "start_time": "2025-09-21T13:00:20.936637",
     "status": "completed"
    },
    "tags": []
   },
   "outputs": [
    {
     "name": "stdout",
     "output_type": "stream",
     "text": [
      "13\n",
      "1000\n",
      "True\n",
      "True\n",
      "False\n",
      "False\n"
     ]
    }
   ],
   "source": [
    "# Aritmatika\n",
    "a = 10\n",
    "b = 3\n",
    "print(a + b)  # 13\n",
    "print(a ** b) # 1000 (pangkat)\n",
    "\n",
    "# Perbandingan\n",
    "print(a > b)   # True\n",
    "print(a == 10) # True\n",
    "\n",
    "# Logika\n",
    "x = True\n",
    "y = False\n",
    "print(x and y) # False\n",
    "print(not x)   # False\n"
   ]
  },
  {
   "cell_type": "markdown",
   "id": "066c21d0",
   "metadata": {
    "papermill": {
     "duration": 0.004848,
     "end_time": "2025-09-21T13:00:20.961024",
     "exception": false,
     "start_time": "2025-09-21T13:00:20.956176",
     "status": "completed"
    },
    "tags": []
   },
   "source": [
    "# 🧭 Conditional Statements\n",
    "\n",
    "Untuk membuat keputusan berdasarkan kondisi, gunakan:\n",
    "\n",
    "- `if` → jika kondisi benar\n",
    "- `elif` → kondisi tambahan jika sebelumnya salah\n",
    "- `else` → jika semua kondisi salah\n",
    "\n",
    "Contoh:\n"
   ]
  },
  {
   "cell_type": "code",
   "execution_count": 8,
   "id": "ef3bb72a",
   "metadata": {
    "execution": {
     "iopub.execute_input": "2025-09-21T13:00:20.972609Z",
     "iopub.status.busy": "2025-09-21T13:00:20.971914Z",
     "iopub.status.idle": "2025-09-21T13:00:20.977912Z",
     "shell.execute_reply": "2025-09-21T13:00:20.976822Z"
    },
    "papermill": {
     "duration": 0.013589,
     "end_time": "2025-09-21T13:00:20.979638",
     "exception": false,
     "start_time": "2025-09-21T13:00:20.966049",
     "status": "completed"
    },
    "tags": []
   },
   "outputs": [
    {
     "name": "stdout",
     "output_type": "stream",
     "text": [
      "Grade: F or lower\n"
     ]
    }
   ],
   "source": [
    "nilai = 49\n",
    "\n",
    "if nilai >= 90:\n",
    "    print(\"Grade: A\")   \n",
    "else:\n",
    "    print(\"Grade: F or lower\")\n"
   ]
  },
  {
   "cell_type": "markdown",
   "id": "87932868",
   "metadata": {
    "papermill": {
     "duration": 0.004929,
     "end_time": "2025-09-21T13:00:20.990081",
     "exception": false,
     "start_time": "2025-09-21T13:00:20.985152",
     "status": "completed"
    },
    "tags": []
   },
   "source": [
    "# 📦 Struktur Data: List, Tuple, dan Dictionary\n",
    "\n",
    "Struktur data digunakan untuk menyimpan banyak data sekaligus.\n",
    "\n",
    "- `list` → Urutan data yang bisa diubah (mutable)\n",
    "- `tuple` → Urutan data yang tidak bisa diubah (immutable)\n",
    "- `dict` → Koleksi pasangan key-value\n",
    "\n",
    "Contoh:\n"
   ]
  },
  {
   "cell_type": "code",
   "execution_count": 9,
   "id": "b8757508",
   "metadata": {
    "execution": {
     "iopub.execute_input": "2025-09-21T13:00:21.002053Z",
     "iopub.status.busy": "2025-09-21T13:00:21.001724Z",
     "iopub.status.idle": "2025-09-21T13:00:21.021377Z",
     "shell.execute_reply": "2025-09-21T13:00:21.020258Z"
    },
    "papermill": {
     "duration": 0.028024,
     "end_time": "2025-09-21T13:00:21.023111",
     "exception": false,
     "start_time": "2025-09-21T13:00:20.995087",
     "status": "completed"
    },
    "tags": []
   },
   "outputs": [
    {
     "name": "stdout",
     "output_type": "stream",
     "text": [
      "['apple', 'banana', 'mango', 'orange']\n",
      "(10, 20)\n",
      "{'name': 'John', 'age': 20, 'address': 'indonesia'}\n"
     ]
    }
   ],
   "source": [
    "# List\n",
    "fruits = ['apple', 'banana', 'mango']\n",
    "fruits.append('orange')\n",
    "\n",
    "# Tuple\n",
    "coordinates = (10, 20)\n",
    "\n",
    "# Dictionary\n",
    "student = {'name': 'John', 'age': 20, 'address': 'indonesia'}\n",
    "\n",
    "print(fruits)        # ['apple', 'banana', 'mango', 'orange']\n",
    "print(coordinates)   # (10, 20)\n",
    "print(student)       # {'name': 'John', 'age': 20}\n"
   ]
  },
  {
   "cell_type": "markdown",
   "id": "b0e075cf",
   "metadata": {
    "papermill": {
     "duration": 0.004897,
     "end_time": "2025-09-21T13:00:21.033566",
     "exception": false,
     "start_time": "2025-09-21T13:00:21.028669",
     "status": "completed"
    },
    "tags": []
   },
   "source": [
    "# 🔁 Perulangan: for dan while\n",
    "\n",
    "Perulangan (`loop`) digunakan untuk mengeksekusi blok kode secara berulang:\n",
    "\n",
    "- `for` digunakan saat tahu berapa kali harus mengulang\n",
    "- `while` digunakan saat mengulang sampai kondisi tidak terpenuhi\n",
    "- `[i for i in list]` list comprehension, sama dengan for loop, tapi lebih ringkas\n"
   ]
  },
  {
   "cell_type": "code",
   "execution_count": 10,
   "id": "79a997d8",
   "metadata": {
    "execution": {
     "iopub.execute_input": "2025-09-21T13:00:21.045377Z",
     "iopub.status.busy": "2025-09-21T13:00:21.045006Z",
     "iopub.status.idle": "2025-09-21T13:00:21.053291Z",
     "shell.execute_reply": "2025-09-21T13:00:21.051941Z"
    },
    "papermill": {
     "duration": 0.016236,
     "end_time": "2025-09-21T13:00:21.054932",
     "exception": false,
     "start_time": "2025-09-21T13:00:21.038696",
     "status": "completed"
    },
    "tags": []
   },
   "outputs": [
    {
     "name": "stdout",
     "output_type": "stream",
     "text": [
      "Loop ke 0\n",
      "Loop ke 1\n",
      "Loop ke 2\n",
      "Loop ke 3\n",
      "Loop ke 4\n",
      "Count: 0\n",
      "Count: 1\n",
      "Count: 2\n"
     ]
    },
    {
     "data": {
      "text/plain": [
       "[0, 1, 2, 3, 4]"
      ]
     },
     "execution_count": 10,
     "metadata": {},
     "output_type": "execute_result"
    }
   ],
   "source": [
    "# for loop\n",
    "for i in range(5):\n",
    "    print(\"Loop ke\", i)\n",
    "\n",
    "# while loop\n",
    "count = 0\n",
    "while count < 3:\n",
    "    print(\"Count:\", count)\n",
    "    count += 1\n",
    "\n",
    "\n",
    "# list comprehension\n",
    "[i for i in range(5)]\n"
   ]
  },
  {
   "cell_type": "markdown",
   "id": "c33e252e",
   "metadata": {
    "papermill": {
     "duration": 0.005136,
     "end_time": "2025-09-21T13:00:21.065920",
     "exception": false,
     "start_time": "2025-09-21T13:00:21.060784",
     "status": "completed"
    },
    "tags": []
   },
   "source": [
    "# 🔧 Fungsi (Function)\n",
    "\n",
    "a. Fungsi digunakan untuk mengelompokkan logika ke dalam blok yang bisa dipakai ulang.\n",
    "\n",
    "Sintaks dasar:\n",
    "```python\n",
    "def nama_fungsi(parameter):\n",
    "    # isi fungsi\n",
    "    return nilai"
   ]
  },
  {
   "cell_type": "markdown",
   "id": "4163e039",
   "metadata": {
    "papermill": {
     "duration": 0.005129,
     "end_time": "2025-09-21T13:00:21.076465",
     "exception": false,
     "start_time": "2025-09-21T13:00:21.071336",
     "status": "completed"
    },
    "tags": []
   },
   "source": [
    "b. Fungsi Lambda, penulisan sederhana dari fungsi menjadi satu baris. Mirip dengan List Comprehension\n",
    "\n",
    "Sintaks dasar:\n",
    "\n",
    "```python\n",
    "nama_fungsi = lambda x: x + 1\n"
   ]
  },
  {
   "cell_type": "code",
   "execution_count": 11,
   "id": "3d4a2a8c",
   "metadata": {
    "execution": {
     "iopub.execute_input": "2025-09-21T13:00:21.088911Z",
     "iopub.status.busy": "2025-09-21T13:00:21.088600Z",
     "iopub.status.idle": "2025-09-21T13:00:21.094943Z",
     "shell.execute_reply": "2025-09-21T13:00:21.093722Z"
    },
    "papermill": {
     "duration": 0.015149,
     "end_time": "2025-09-21T13:00:21.097165",
     "exception": false,
     "start_time": "2025-09-21T13:00:21.082016",
     "status": "completed"
    },
    "tags": []
   },
   "outputs": [
    {
     "name": "stdout",
     "output_type": "stream",
     "text": [
      "Hello, Jakarta!\n"
     ]
    }
   ],
   "source": [
    "def greet(name):\n",
    "    return f\"Hello, {name}!\"\n",
    "\n",
    "# Memanggil fungsi\n",
    "print(greet(\"Jakarta\"))\n",
    "\n",
    "\n",
    "def rumus_eistein(m, c):\n",
    "    e = m * c**2\n",
    "    return e\n"
   ]
  },
  {
   "cell_type": "code",
   "execution_count": 12,
   "id": "73df1bac",
   "metadata": {
    "execution": {
     "iopub.execute_input": "2025-09-21T13:00:21.109845Z",
     "iopub.status.busy": "2025-09-21T13:00:21.109495Z",
     "iopub.status.idle": "2025-09-21T13:00:21.115748Z",
     "shell.execute_reply": "2025-09-21T13:00:21.114667Z"
    },
    "papermill": {
     "duration": 0.014585,
     "end_time": "2025-09-21T13:00:21.117447",
     "exception": false,
     "start_time": "2025-09-21T13:00:21.102862",
     "status": "completed"
    },
    "tags": []
   },
   "outputs": [
    {
     "name": "stdout",
     "output_type": "stream",
     "text": [
      "Hello, AI Learner!\n",
      "4 100 1000000\n"
     ]
    }
   ],
   "source": [
    "def greet(name):\n",
    "    return f\"Hello, {name}!\"\n",
    "\n",
    "# Memanggil fungsi\n",
    "print(greet(\"AI Learner\"))\n",
    "\n",
    "\n",
    "fungsi_kuadrat = lambda x: x*x\n",
    "\n",
    "x1 = fungsi_kuadrat(2)\n",
    "x2 = fungsi_kuadrat(10)\n",
    "x3 = fungsi_kuadrat(1000)\n",
    "\n",
    "print(x1, x2, x3)\n"
   ]
  },
  {
   "cell_type": "markdown",
   "id": "db3a5b34",
   "metadata": {
    "papermill": {
     "duration": 0.00524,
     "end_time": "2025-09-21T13:00:21.128489",
     "exception": false,
     "start_time": "2025-09-21T13:00:21.123249",
     "status": "completed"
    },
    "tags": []
   },
   "source": [
    "# 🧱 Pengenalan OOP (Object-Oriented Programming)\n",
    "\n",
    "OOP adalah paradigma yang berfokus pada objek. Kita bisa membuat `class` sebagai cetakan, dan `object` sebagai instance dari class tersebut.\n",
    "\n",
    "Contoh class dan object:\n"
   ]
  },
  {
   "cell_type": "code",
   "execution_count": 13,
   "id": "791352a1",
   "metadata": {
    "execution": {
     "iopub.execute_input": "2025-09-21T13:00:21.140500Z",
     "iopub.status.busy": "2025-09-21T13:00:21.140144Z",
     "iopub.status.idle": "2025-09-21T13:00:21.147536Z",
     "shell.execute_reply": "2025-09-21T13:00:21.146251Z"
    },
    "papermill": {
     "duration": 0.015665,
     "end_time": "2025-09-21T13:00:21.149518",
     "exception": false,
     "start_time": "2025-09-21T13:00:21.133853",
     "status": "completed"
    },
    "tags": []
   },
   "outputs": [
    {
     "name": "stdout",
     "output_type": "stream",
     "text": [
      "Hi, I'm Alice, 25 years old.\n"
     ]
    }
   ],
   "source": [
    "class Person:\n",
    "    def __init__(self, name, age):\n",
    "        self.name = name\n",
    "        self.age = age\n",
    "        self.friends = []\n",
    "\n",
    "    def introduce(self):\n",
    "        return f\"Hi, I'm {self.name}, {self.age} years old.\"\n",
    "\n",
    "    def meet(self, name):\n",
    "        self.friends.append(name)\n",
    "        \n",
    "    def get_list_friends(self):\n",
    "        print(self.friends)\n",
    "\n",
    "# Membuat objek\n",
    "p = Person(\"Alice\", 25)\n",
    "p1 = Person(\"Ngoding\", 10)\n",
    "p2 = Person(\"AI\", 70)\n",
    "print(p.introduce())\n"
   ]
  },
  {
   "cell_type": "code",
   "execution_count": 14,
   "id": "96a6ddac",
   "metadata": {
    "execution": {
     "iopub.execute_input": "2025-09-21T13:00:21.163219Z",
     "iopub.status.busy": "2025-09-21T13:00:21.162838Z",
     "iopub.status.idle": "2025-09-21T13:00:21.168409Z",
     "shell.execute_reply": "2025-09-21T13:00:21.167191Z"
    },
    "papermill": {
     "duration": 0.014434,
     "end_time": "2025-09-21T13:00:21.170093",
     "exception": false,
     "start_time": "2025-09-21T13:00:21.155659",
     "status": "completed"
    },
    "tags": []
   },
   "outputs": [],
   "source": [
    "p1.introduce()\n",
    "\n",
    "p1.meet('Joni')\n",
    "p1.meet('Fani')\n",
    "p1.meet('Kodi')"
   ]
  },
  {
   "cell_type": "code",
   "execution_count": 15,
   "id": "4e09c9f7",
   "metadata": {
    "execution": {
     "iopub.execute_input": "2025-09-21T13:00:21.183213Z",
     "iopub.status.busy": "2025-09-21T13:00:21.182903Z",
     "iopub.status.idle": "2025-09-21T13:00:21.188632Z",
     "shell.execute_reply": "2025-09-21T13:00:21.187396Z"
    },
    "papermill": {
     "duration": 0.014609,
     "end_time": "2025-09-21T13:00:21.190461",
     "exception": false,
     "start_time": "2025-09-21T13:00:21.175852",
     "status": "completed"
    },
    "tags": []
   },
   "outputs": [
    {
     "name": "stdout",
     "output_type": "stream",
     "text": [
      "['Joni', 'Fani', 'Kodi']\n"
     ]
    }
   ],
   "source": [
    "p1.get_list_friends()"
   ]
  },
  {
   "cell_type": "markdown",
   "id": "ff4237ed",
   "metadata": {
    "papermill": {
     "duration": 0.005435,
     "end_time": "2025-09-21T13:00:21.201700",
     "exception": false,
     "start_time": "2025-09-21T13:00:21.196265",
     "status": "completed"
    },
    "tags": []
   },
   "source": [
    "# 🚨 Error Handling: try-except\n",
    "\n",
    "Untuk menghindari program berhenti karena error, gunakan blok `try-except`.\n",
    "\n",
    "Contoh:\n"
   ]
  },
  {
   "cell_type": "code",
   "execution_count": 16,
   "id": "7a10c492",
   "metadata": {
    "execution": {
     "iopub.execute_input": "2025-09-21T13:00:21.214130Z",
     "iopub.status.busy": "2025-09-21T13:00:21.213800Z",
     "iopub.status.idle": "2025-09-21T13:00:21.220508Z",
     "shell.execute_reply": "2025-09-21T13:00:21.218728Z"
    },
    "papermill": {
     "duration": 0.015252,
     "end_time": "2025-09-21T13:00:21.222466",
     "exception": false,
     "start_time": "2025-09-21T13:00:21.207214",
     "status": "completed"
    },
    "tags": []
   },
   "outputs": [
    {
     "name": "stdout",
     "output_type": "stream",
     "text": [
      "Input bukan angka!\n"
     ]
    }
   ],
   "source": [
    "try:\n",
    "    angka = 'hallo'\n",
    "    hasil = 10 / angka\n",
    "    print(\"Hasil:\", hasil)\n",
    "except TypeError:\n",
    "    print(\"Input bukan angka!\")\n",
    "except ZeroDivisionError:\n",
    "    print(\"Tidak bisa bagi 0!\")\n"
   ]
  },
  {
   "cell_type": "code",
   "execution_count": null,
   "id": "7b985fdc",
   "metadata": {
    "papermill": {
     "duration": 0.005363,
     "end_time": "2025-09-21T13:00:21.233932",
     "exception": false,
     "start_time": "2025-09-21T13:00:21.228569",
     "status": "completed"
    },
    "tags": []
   },
   "outputs": [],
   "source": []
  }
 ],
 "metadata": {
  "kaggle": {
   "accelerator": "none",
   "dataSources": [],
   "dockerImageVersionId": 31089,
   "isGpuEnabled": false,
   "isInternetEnabled": false,
   "language": "python",
   "sourceType": "notebook"
  },
  "kernelspec": {
   "display_name": "Python 3",
   "language": "python",
   "name": "python3"
  },
  "language_info": {
   "codemirror_mode": {
    "name": "ipython",
    "version": 3
   },
   "file_extension": ".py",
   "mimetype": "text/x-python",
   "name": "python",
   "nbconvert_exporter": "python",
   "pygments_lexer": "ipython3",
   "version": "3.11.13"
  },
  "papermill": {
   "default_parameters": {},
   "duration": 7.336163,
   "end_time": "2025-09-21T13:00:21.659800",
   "environment_variables": {},
   "exception": null,
   "input_path": "__notebook__.ipynb",
   "output_path": "__notebook__.ipynb",
   "parameters": {},
   "start_time": "2025-09-21T13:00:14.323637",
   "version": "2.6.0"
  }
 },
 "nbformat": 4,
 "nbformat_minor": 5
}
